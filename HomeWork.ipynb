{
 "cells": [
  {
   "cell_type": "code",
   "execution_count": 59,
   "metadata": {},
   "outputs": [],
   "source": [
    "import os \n",
    "from PIL import Image\n",
    "import pandas as pd\n",
    "import numpy as np\n",
    "import seaborn as sns\n",
    "from matplotlib.image import imread\n",
    "import  matplotlib.pyplot as plt\n",
    "font = {'family' : 'normal',\n",
    "        'weight' : 'bold',\n",
    "        'size'   : 40}\n",
    "\n",
    "plt.rc('font', **font)\n",
    "plt.rcParams[\"figure.figsize\"] = (18,7)\n",
    "%matplotlib inline\n",
    "plt.style.use('ggplot')"
   ]
  },
  {
   "cell_type": "code",
   "execution_count": null,
   "metadata": {},
   "outputs": [],
   "source": []
  },
  {
   "cell_type": "code",
   "execution_count": null,
   "metadata": {},
   "outputs": [],
   "source": []
  },
  {
   "cell_type": "markdown",
   "metadata": {},
   "source": [
    "**a) Download the original dataset (cut it in advance if necessary).**\n",
    "\n",
    "- You need not less than 5 - 6 classes with not less than 1000 images for each of the classes in the training set,\n",
    "- not less than 300 images for each of the classes in the validation set, and not less than 60 images for each of the classes in the test set.\n",
    "\n",
    "**These numbers are approximate and you should follow the distribution ratio given below. Split the dataset into three subsets:**\n",
    "\n",
    "- training, validation and a test set following the ratio (70% - 20% -10%).\n",
    "- Use dataset analysis and preprocessing as normalization or standardization etc.\n",
    "- Represent the classes in training and validation sets in the following two ways shown below for the training set.\n",
    "- Do the same for the validation set. Do the same for the validation set.\n",
    "\n",
    "**Make conclusions about the imbalance of the training and validation sets and pick-up the way to fix the imbalance problem of both datasets: training and validation.**"
   ]
  },
  {
   "cell_type": "markdown",
   "metadata": {},
   "source": [
    "# Training, validation and a test set following the ratio (70% - 20% -10%)."
   ]
  },
  {
   "cell_type": "markdown",
   "metadata": {},
   "source": [
    "We downloaded the data from Kaggle. The data was a mix of colored and non colored images. We used a script to remove all the non color images and we splitted the data into the required ratios **(70% - 20% -10%).**\n",
    "\n",
    "\n",
    "All the data was placed in a directory called FacialExpression. The FacialExpression directory contains 3 sub-directories:\n",
    "\n",
    "- **train** folder contains (the training data)\n",
    "- **test** folder contains (the testing data)\n",
    "- **valid** contains (the validation data)"
   ]
  },
  {
   "cell_type": "code",
   "execution_count": 54,
   "metadata": {},
   "outputs": [
    {
     "data": {
      "text/plain": [
       "['train', 'valid', 'test']"
      ]
     },
     "execution_count": 54,
     "metadata": {},
     "output_type": "execute_result"
    }
   ],
   "source": [
    "# this is the path to the parent data folder \n",
    "FacialExpression='FacialExpression'\n",
    "\n",
    "# print the sub-derectories\n",
    "os.listdir(FacialExpression)"
   ]
  },
  {
   "cell_type": "markdown",
   "metadata": {},
   "source": [
    "The above list show all the 3 sub-directories. We created path variables to the tain, test and validatoin data."
   ]
  },
  {
   "cell_type": "code",
   "execution_count": 3,
   "metadata": {},
   "outputs": [
    {
     "name": "stdout",
     "output_type": "stream",
     "text": [
      "Training Classes   :  ['happy', 'angry', 'surprise', 'disgust', 'neutral', 'sad', 'fear']\n",
      "Testing  Classes   :  ['happy', 'angry', 'surprise', 'disgust', 'neutral', 'sad', 'fear']\n",
      "Validation Classes :  ['happy', 'angry', 'surprise', 'disgust', 'neutral', 'sad', 'fear']\n"
     ]
    }
   ],
   "source": [
    "train_path= FacialExpression+'/train'\n",
    "test_path = FacialExpression+'/test'\n",
    "valid_path= FacialExpression+'/valid'\n",
    "\n",
    "# print the list of diffrent classes\n",
    "print(\"Training Classes   : \",os.listdir(train_path))\n",
    "print(\"Testing  Classes   : \",os.listdir(test_path))\n",
    "print(\"Validation Classes : \",os.listdir(valid_path))"
   ]
  },
  {
   "cell_type": "markdown",
   "metadata": {},
   "source": [
    "We can see from the above results that that all the Training, Testing, Validation data have all the 7 classes."
   ]
  },
  {
   "cell_type": "code",
   "execution_count": 9,
   "metadata": {},
   "outputs": [
    {
     "name": "stdout",
     "output_type": "stream",
     "text": [
      "_______________________________________________________\n",
      "                          train                                             \n",
      "=======================================================\n",
      "The number of images for       happy           21377\n",
      "The number of images for       angry           2572\n",
      "The number of images for       surprise        4942\n",
      "The number of images for       disgust         2795\n",
      "The number of images for       neutral         24419\n",
      "The number of images for       sad             7393\n",
      "The number of images for       fear            762 \n",
      "-------------------------------------------------------\n",
      "The number of train  images is  64260\n",
      "_______________________________________________________\n",
      "                          valid                                             \n",
      "=======================================================\n",
      "The number of images for       happy           2720\n",
      "The number of images for       angry           507 \n",
      "The number of images for       surprise        720 \n",
      "The number of images for       disgust         320 \n",
      "The number of images for       neutral         2928\n",
      "The number of images for       sad             1104\n",
      "The number of images for       fear            339 \n",
      "-------------------------------------------------------\n",
      "The number of valid  images is  8638\n",
      "_______________________________________________________\n",
      "                          test                                              \n",
      "=======================================================\n",
      "The number of images for       happy           5459\n",
      "The number of images for       angry           1041\n",
      "The number of images for       surprise        1475\n",
      "The number of images for       disgust         655 \n",
      "The number of images for       neutral         5858\n",
      "The number of images for       sad             2177\n",
      "The number of images for       fear            691 \n",
      "-------------------------------------------------------\n",
      "The number of test  images is  17356\n"
     ]
    }
   ],
   "source": [
    "labels=[]\n",
    "numbers=[]\n",
    "\n",
    "for fold in os.listdir(FacialExpression):\n",
    "    print(\"_______________________________________________________\")\n",
    "    print(\"{:25.20}\".format(\" \"),\"{:50.50}\".format(str(fold)))\n",
    "    print(\"=======================================================\")\n",
    "    \n",
    "    data=[]\n",
    "    for cls in os.listdir(FacialExpression+\"/\"+fold):  \n",
    "        num=len(os.listdir(FacialExpression+'/'+fold+\"/\"+cls))\n",
    "        data.append(num)\n",
    "        labels.append(cls)\n",
    "        numbers.append(num)\n",
    "        print(\n",
    "                    \"{:30.30}\".format(\"The number of images for\"),\n",
    "                    \"{:15.20}\".format(str(cls)),\n",
    "                    \"{:4.30}\".format(str(num)),\n",
    "                )\n",
    "    print('-------------------------------------------------------')\n",
    "    print(\"The number of\",fold,\" images is \",sum(data))"
   ]
  },
  {
   "cell_type": "markdown",
   "metadata": {},
   "source": [
    "The above output shows the total number images for train, test and validation data, as well as the number of samples per class. "
   ]
  },
  {
   "cell_type": "code",
   "execution_count": 60,
   "metadata": {},
   "outputs": [
    {
     "data": {
      "text/plain": [
       "Text(0.5, 1.0, ' Train, Test and validation ratios')"
      ]
     },
     "execution_count": 60,
     "metadata": {},
     "output_type": "execute_result"
    },
    {
     "data": {
      "image/png": "[encoded data removed]",
      "text/plain": [
       "<Figure size 432x288 with 1 Axes>"
      ]
     },
     "metadata": {},
     "output_type": "display_data"
    }
   ],
   "source": [
    "fig = plt.figure()\n",
    "ax = fig.add_axes([0,0,1,1])\n",
    "ax.bar('Train', sum(numbers[0:7]), color = 'b', )\n",
    "ax.bar(\"Test\", sum(numbers[14:]), color = 'r', )\n",
    "ax.bar(\"Validation\", sum(numbers[7:14]), color = 'g', )\n",
    "plt.xlabel(\"\")\n",
    "plt.ylabel(\"Number of Images\")\n",
    "plt.title(\" Train, Test and validation ratios\")\n"
   ]
  },
  {
   "cell_type": "markdown",
   "metadata": {},
   "source": [
    "The above bar plot shows the proportions of the train, test and validation data."
   ]
  },
  {
   "cell_type": "code",
   "execution_count": 65,
   "metadata": {},
   "outputs": [
    {
     "data": {
      "image/png": "[encoded data removed]",
      "text/plain": [
       "<Figure size 1152x504 with 1 Axes>"
      ]
     },
     "metadata": {},
     "output_type": "display_data"
    }
   ],
   "source": [
    "plt.rcParams[\"figure.figsize\"] = (16,7)\n",
    "barWidth = 0.25\n",
    " \n",
    "# set height of bar\n",
    "bars1 = numbers[0:7]\n",
    "bars2 = numbers[14:]\n",
    "bars3 = numbers[7:14]\n",
    " \n",
    "# Set position of bar on X axis\n",
    "r1 = np.arange(len(bars1))\n",
    "r2 = [x + barWidth for x in r1]\n",
    "r3 = [x + barWidth for x in r2]\n",
    " \n",
    "\n",
    "plt.bar(r1, bars1, color='#7f6d5f', width=barWidth, edgecolor='white', label='Training')\n",
    "plt.bar(r2, bars2, color='#557f2d', width=barWidth, edgecolor='white', label='Testing')\n",
    "plt.bar(r3, bars3, color='#2d7f5e', width=barWidth, edgecolor='white', label='Validation')\n",
    " \n",
    "# Add xticks on the middle of the group bars\n",
    "plt.xlabel('Classes', fontweight='bold')\n",
    "plt.ylabel(\"Number of Images\")\n",
    "plt.title(\" Train, Test and validation ratios per class\")\n",
    "plt.xticks([r + barWidth for r in range(len(bars1))], labels[0:7])\n",
    " \n",
    "# Create legend & Show graphic\n",
    "plt.legend()\n",
    "plt.show()\n"
   ]
  },
  {
   "cell_type": "markdown",
   "metadata": {},
   "source": [
    "Here we can see the number of training, testing and validation data for everyone one of the seven classes in our data set."
   ]
  },
  {
   "cell_type": "code",
   "execution_count": null,
   "metadata": {},
   "outputs": [],
   "source": []
  },
  {
   "cell_type": "markdown",
   "metadata": {},
   "source": [
    "# here we display an image"
   ]
  },
  {
   "cell_type": "code",
   "execution_count": 82,
   "metadata": {},
   "outputs": [
    {
     "data": {
      "text/plain": [
       "<matplotlib.image.AxesImage at 0x7f2b207adaf0>"
      ]
     },
     "execution_count": 82,
     "metadata": {},
     "output_type": "execute_result"
    },
    {
     "data": {
      "image/png": "[encoded data removed]",
      "text/plain": [
       "<Figure size 1152x504 with 1 Axes>"
      ]
     },
     "metadata": {},
     "output_type": "display_data"
    }
   ],
   "source": [
    "image_shape=imread(train_path+'/happy/'+os.listdir(train_path+'/happy')[1]).shape\n",
    "plt.imshow(imread(train_path+'/happy/'+os.listdir(train_path+'/happy')[1]))"
   ]
  },
  {
   "cell_type": "code",
   "execution_count": null,
   "metadata": {},
   "outputs": [],
   "source": [
    "Make conclusions about the imbalance of the training and validation sets and pick-up the way to fix the imbalance problem of both datasets: training and validation."
   ]
  },
  {
   "cell_type": "markdown",
   "metadata": {},
   "source": [
    "**b) Use Sequential model and build the topology of your CNN implementing unbalanced dataset as well the balanced training and validation datasets.**\n",
    "\n",
    "- Your CNN topology should include not less than four\n",
    "**b) Use Sequential model and build the topology of your CNN implementing unbalanced dataset as well the balanced training and validation datasets.**\n",
    "\n",
    "- Your CNN topology should include not less than four\n",
    "\n",
    "convolutional layers, where the number of neurons, the number of filters and their size and the type of pooling layers and where to include the last one is up to you.\n",
    "\n",
    "- **Do experiments with 3 different models** (the difference could be in the choice of **activation function** , **optimizer** , and **number of convolutional layers** , **batch size** or any combination of these, learning rate change, stride etc.).\n",
    "- Include as a first choice **ReLU** , **Adam** and **batch size 32**.\n",
    "- Do not forget **batch normalization** and **shuffling.**\n",
    "- Describe each model.\n",
    "- Apply **regularization** and **dropout** to the model to prevent overfitting if necessary.\n",
    "convolutional layers, where the number of neurons, the number of filters and their size and the type of pooling layers and where to include the last one is up to you.\n",
    "\n",
    "- **Do experiments with 3 different models** (the difference could be in the choice of **activation function** , **optimizer** , and **number of convolutional layers** , **batch size** or any combination of these, learning rate change, stride etc.).\n",
    "- Include as a first choice **ReLU** , **Adam** and **batch size 32**.\n",
    "- Do not forget **batch normalization** and **shuffling.**\n",
    "- Describe each model.\n",
    "- Apply **regularization** and **dropout** to the model to prevent overfitting if necessary."
   ]
  },
  {
   "cell_type": "markdown",
   "metadata": {},
   "source": [
    "# Model 1:  ReLU , Adam and batch size 32"
   ]
  },
  {
   "cell_type": "code",
   "execution_count": 99,
   "metadata": {},
   "outputs": [],
   "source": [
    "from tensorflow.keras.preprocessing.image import ImageDataGenerator\n",
    "image_gen =ImageDataGenerator()"
   ]
  },
  {
   "cell_type": "code",
   "execution_count": 96,
   "metadata": {},
   "outputs": [],
   "source": []
  },
  {
   "cell_type": "code",
   "execution_count": 116,
   "metadata": {},
   "outputs": [],
   "source": [
    "from tensorflow.keras.models import Sequential\n",
    "from tensorflow.keras.layers import Activation, Dropout, Flatten, Dense, Conv2D, MaxPooling2D\n",
    "from tensorflow.keras.callbacks import EarlyStopping\n",
    "#https://stats.stackexchange.com/questions/148139/rules-for-selecting-convolutional-neural-network-hyperparameters\n",
    "model = Sequential()\n",
    "\n",
    "model.add(Conv2D(filters=32, kernel_size=(3,3),input_shape=image_shape, activation='relu',))\n",
    "model.add(MaxPooling2D(pool_size=(2, 2)))\n",
    "\n",
    "model.add(Conv2D(filters=64, kernel_size=(3,3),input_shape=image_shape, activation='relu',))\n",
    "model.add(MaxPooling2D(pool_size=(2, 2)))\n",
    "\n",
    "model.add(Conv2D(filters=64, kernel_size=(3,3),input_shape=image_shape, activation='relu',))\n",
    "model.add(MaxPooling2D(pool_size=(2, 2)))\n",
    "\n",
    "model.add(Flatten())\n",
    "\n",
    "\n",
    "model.add(Dense(128,activation='relu'))\n",
    "\n",
    "\n",
    "# Dropouts help reduce overfitting by randomly turning neurons off during training.\n",
    "# Here we say randomly turn off 50% of neurons.\n",
    "model.add(Dropout(0.5))\n",
    "\n",
    "# Last layer, remember its binary so we use sigmoid\n",
    "model.add(Dense(7, activation=\"softmax\"))\n",
    "\n",
    "\n",
    "model.compile(loss='binary_crossentropy',\n",
    "              optimizer='adam',\n",
    "              metrics=['accuracy'])\n"
   ]
  },
  {
   "cell_type": "code",
   "execution_count": 117,
   "metadata": {},
   "outputs": [
    {
     "name": "stdout",
     "output_type": "stream",
     "text": [
      "Model: \"sequential_7\"\n",
      "_________________________________________________________________\n",
      "Layer (type)                 Output Shape              Param #   \n",
      "=================================================================\n",
      "conv2d_15 (Conv2D)           (None, 46, 46, 32)        896       \n",
      "_________________________________________________________________\n",
      "max_pooling2d_15 (MaxPooling (None, 23, 23, 32)        0         \n",
      "_________________________________________________________________\n",
      "conv2d_16 (Conv2D)           (None, 21, 21, 64)        18496     \n",
      "_________________________________________________________________\n",
      "max_pooling2d_16 (MaxPooling (None, 10, 10, 64)        0         \n",
      "_________________________________________________________________\n",
      "conv2d_17 (Conv2D)           (None, 8, 8, 64)          36928     \n",
      "_________________________________________________________________\n",
      "max_pooling2d_17 (MaxPooling (None, 4, 4, 64)          0         \n",
      "_________________________________________________________________\n",
      "flatten_5 (Flatten)          (None, 1024)              0         \n",
      "_________________________________________________________________\n",
      "dense_5 (Dense)              (None, 128)               131200    \n",
      "_________________________________________________________________\n",
      "dropout_3 (Dropout)          (None, 128)               0         \n",
      "_________________________________________________________________\n",
      "dense_6 (Dense)              (None, 7)                 903       \n",
      "=================================================================\n",
      "Total params: 188,423\n",
      "Trainable params: 188,423\n",
      "Non-trainable params: 0\n",
      "_________________________________________________________________\n"
     ]
    }
   ],
   "source": [
    "model.summary()\n"
   ]
  },
  {
   "cell_type": "code",
   "execution_count": 118,
   "metadata": {},
   "outputs": [],
   "source": [
    "early_stop = EarlyStopping(monitor='val_loss',patience=2)"
   ]
  },
  {
   "cell_type": "code",
   "execution_count": 119,
   "metadata": {},
   "outputs": [],
   "source": [
    "batch_size = 32"
   ]
  },
  {
   "cell_type": "code",
   "execution_count": 120,
   "metadata": {},
   "outputs": [
    {
     "name": "stdout",
     "output_type": "stream",
     "text": [
      "Found 64260 images belonging to 7 classes.\n"
     ]
    }
   ],
   "source": [
    "train_image_gen = image_gen.flow_from_directory(train_path,\n",
    "                                               target_size=image_shape[:2],\n",
    "                                                color_mode='rgb',\n",
    "                                               batch_size=batch_size,\n",
    "                                               shuffle=True)"
   ]
  },
  {
   "cell_type": "code",
   "execution_count": 121,
   "metadata": {},
   "outputs": [
    {
     "name": "stdout",
     "output_type": "stream",
     "text": [
      "Found 17356 images belonging to 7 classes.\n"
     ]
    }
   ],
   "source": [
    "test_image_gen = image_gen.flow_from_directory(test_path,\n",
    "                                               target_size=image_shape[:2],\n",
    "                                               color_mode='rgb',\n",
    "                                               batch_size=batch_size,shuffle=False)"
   ]
  },
  {
   "cell_type": "code",
   "execution_count": 122,
   "metadata": {},
   "outputs": [
    {
     "name": "stdout",
     "output_type": "stream",
     "text": [
      "Found 8638 images belonging to 7 classes.\n"
     ]
    }
   ],
   "source": [
    "valid_image_gen = image_gen.flow_from_directory(valid_path,\n",
    "                                               target_size=image_shape[:2],\n",
    "                                               color_mode='rgb',\n",
    "                                               batch_size=batch_size,shuffle=True)"
   ]
  },
  {
   "cell_type": "code",
   "execution_count": 123,
   "metadata": {},
   "outputs": [
    {
     "data": {
      "text/plain": [
       "{'angry': 0,\n",
       " 'disgust': 1,\n",
       " 'fear': 2,\n",
       " 'happy': 3,\n",
       " 'neutral': 4,\n",
       " 'sad': 5,\n",
       " 'surprise': 6}"
      ]
     },
     "execution_count": 123,
     "metadata": {},
     "output_type": "execute_result"
    }
   ],
   "source": [
    "valid_image_gen.class_indices"
   ]
  },
  {
   "cell_type": "code",
   "execution_count": null,
   "metadata": {},
   "outputs": [
    {
     "name": "stdout",
     "output_type": "stream",
     "text": [
      "Epoch 1/20\n",
      "2009/2009 [==============================] - 145s 72ms/step - loss: 2.7202 - accuracy: 0.3789 - val_loss: 2.9030 - val_accuracy: 0.3375\n",
      "Epoch 2/20\n",
      "1854/2009 [==========================>...] - ETA: 11s - loss: 2.7135 - accuracy: 0.3808"
     ]
    }
   ],
   "source": [
    "results = model.fit_generator(train_image_gen,epochs=20,\n",
    "                              validation_data=test_image_gen,\n",
    "                             )"
   ]
  },
  {
   "cell_type": "code",
   "execution_count": 111,
   "metadata": {},
   "outputs": [],
   "source": [
    "metris=pd.DataFrame(model.history.history)"
   ]
  },
  {
   "cell_type": "code",
   "execution_count": 112,
   "metadata": {},
   "outputs": [
    {
     "data": {
      "text/html": [
       "<div>\n",
       "<style scoped>\n",
       "    .dataframe tbody tr th:only-of-type {\n",
       "        vertical-align: middle;\n",
       "    }\n",
       "\n",
       "    .dataframe tbody tr th {\n",
       "        vertical-align: top;\n",
       "    }\n",
       "\n",
       "    .dataframe thead th {\n",
       "        text-align: right;\n",
       "    }\n",
       "</style>\n",
       "<table border=\"1\" class=\"dataframe\">\n",
       "  <thead>\n",
       "    <tr style=\"text-align: right;\">\n",
       "      <th></th>\n",
       "      <th>loss</th>\n",
       "      <th>accuracy</th>\n",
       "      <th>val_loss</th>\n",
       "      <th>val_accuracy</th>\n",
       "    </tr>\n",
       "  </thead>\n",
       "  <tbody>\n",
       "    <tr>\n",
       "      <th>0</th>\n",
       "      <td>3.004179</td>\n",
       "      <td>0.314052</td>\n",
       "      <td>3.821974</td>\n",
       "      <td>0.127807</td>\n",
       "    </tr>\n",
       "    <tr>\n",
       "      <th>1</th>\n",
       "      <td>3.056369</td>\n",
       "      <td>0.302474</td>\n",
       "      <td>3.002180</td>\n",
       "      <td>0.314888</td>\n",
       "    </tr>\n",
       "    <tr>\n",
       "      <th>2</th>\n",
       "      <td>2.927825</td>\n",
       "      <td>0.331855</td>\n",
       "      <td>3.002181</td>\n",
       "      <td>0.314888</td>\n",
       "    </tr>\n",
       "    <tr>\n",
       "      <th>3</th>\n",
       "      <td>NaN</td>\n",
       "      <td>0.124323</td>\n",
       "      <td>NaN</td>\n",
       "      <td>0.058694</td>\n",
       "    </tr>\n",
       "  </tbody>\n",
       "</table>\n",
       "</div>"
      ],
      "text/plain": [
       "       loss  accuracy  val_loss  val_accuracy\n",
       "0  3.004179  0.314052  3.821974      0.127807\n",
       "1  3.056369  0.302474  3.002180      0.314888\n",
       "2  2.927825  0.331855  3.002181      0.314888\n",
       "3       NaN  0.124323       NaN      0.058694"
      ]
     },
     "execution_count": 112,
     "metadata": {},
     "output_type": "execute_result"
    }
   ],
   "source": [
    "metris\n"
   ]
  },
  {
   "cell_type": "code",
   "execution_count": 114,
   "metadata": {},
   "outputs": [
    {
     "data": {
      "text/plain": [
       "<AxesSubplot:>"
      ]
     },
     "execution_count": 114,
     "metadata": {},
     "output_type": "execute_result"
    },
    {
     "data": {
      "image/png": "[encoded data removed]",
      "text/plain": [
       "<Figure size 1152x504 with 1 Axes>"
      ]
     },
     "metadata": {},
     "output_type": "display_data"
    }
   ],
   "source": [
    "metris[[\"loss\",\"val_loss\"]].plot()"
   ]
  },
  {
   "cell_type": "code",
   "execution_count": 109,
   "metadata": {},
   "outputs": [],
   "source": [
    "model.save('my_model.h5')"
   ]
  },
  {
   "cell_type": "code",
   "execution_count": null,
   "metadata": {},
   "outputs": [],
   "source": [
    "hist_csv_file = 'history.csv'\n",
    "with open(hist_csv_file, mode='w') as f:\n",
    "    hist_df.to_csv(f)"
   ]
  }
 ],
 "metadata": {
  "kernelspec": {
   "display_name": "Python 3",
   "language": "python",
   "name": "python3"
  },
  "language_info": {
   "codemirror_mode": {
    "name": "ipython",
    "version": 3
   },
   "file_extension": ".py",
   "mimetype": "text/x-python",
   "name": "python",
   "nbconvert_exporter": "python",
   "pygments_lexer": "ipython3",
   "version": "3.8.5"
  }
 },
 "nbformat": 4,
 "nbformat_minor": 4
}
