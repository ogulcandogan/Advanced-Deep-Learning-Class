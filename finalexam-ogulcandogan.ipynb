{
 "cells": [
  {
   "cell_type": "markdown",
   "metadata": {},
   "source": [
    "# CSC 767 Neural Networks and Deep Learning FINAL EXAM"
   ]
  },
  {
   "cell_type": "markdown",
   "metadata": {},
   "source": [
    "1) Execute forward and backward modes of neural network by hand or by using Python (your choice) for 3 iterations (epochs). \n",
    "\n",
    "2) The model is shown in Fig. 1. This network comprises of a hidden layer with 3 ReLU units and a squared-error loss\n",
    "3) (Note: Use tanh as activation function in the output unit and ReLU for hidden layer)"
   ]
  },
  {
   "cell_type": "markdown",
   "metadata": {},
   "source": [
    "# Importing Libraries"
   ]
  },
  {
   "cell_type": "code",
   "execution_count": 1,
   "metadata": {},
   "outputs": [],
   "source": [
    "import numpy as np\n",
    "import matplotlib.pyplot as plt"
   ]
  },
  {
   "cell_type": "markdown",
   "metadata": {},
   "source": [
    "## Initialize the weights to these random values that is given\n",
    "\n",
    "That code thats in these file, written 3 years ago by myself in another class as a competition. \n",
    "For that reason, its including bias even we don't need them in this final exam. I didn't remove it on purpose because regular Neural Network should include a bias paramater.\n",
    "I make alteration and simplified more.\n",
    "\n",
    "The logic/Algorithm:\n",
    "\n",
    "We are creating a function to define our given variables"
   ]
  },
  {
   "cell_type": "markdown",
   "metadata": {},
   "source": [
    "![title](weights.png)\n"
   ]
  },
  {
   "cell_type": "code",
   "execution_count": 2,
   "metadata": {},
   "outputs": [],
   "source": [
    "def initialize_parameters_and_layer_sizes_NN(x_train, y_train):\n",
    "    \n",
    "    parameters = {\"weight1\":np.array([[0.60,0.70,0.00],[0.01,0.43,0.88]]) ,\n",
    "                  \"bias1\": np.zeros((4,3)),\n",
    "                  \"weight2\": np.array([[0.02],[0.03],[0.9]]),\n",
    "                  \"bias2\": np.zeros((y_train.shape[0],1))}\n",
    "    return parameters"
   ]
  },
  {
   "cell_type": "markdown",
   "metadata": {},
   "source": [
    "# Creating RELU Activation Function\n",
    "\n",
    "![title](relu.png)\n"
   ]
  },
  {
   "cell_type": "code",
   "execution_count": 3,
   "metadata": {},
   "outputs": [],
   "source": [
    "def relu(z):\n",
    "\n",
    "\n",
    "    y_head = np.maximum(0,z)\n",
    "    return y_head\n",
    "\n",
    "\n",
    "\n",
    "    "
   ]
  },
  {
   "cell_type": "markdown",
   "metadata": {},
   "source": [
    "# Creating Tanh Activation Function\n",
    "\n",
    "![title](tanh.png)\n"
   ]
  },
  {
   "cell_type": "code",
   "execution_count": 4,
   "metadata": {},
   "outputs": [],
   "source": [
    "def tanh(z):\n",
    "    y_head=(np.exp(z)-np.exp(-z))/(np.exp(z)+np.exp(-z))\n",
    "    return y_head"
   ]
  },
  {
   "cell_type": "markdown",
   "metadata": {},
   "source": [
    "Step 1: Matrix multiplication between data and weights \n",
    "\n",
    "Step 2: Add the bias \n",
    "Step 3: Pass through from activation function\n",
    "\n",
    "Step 4: Repeat again and set the variables for the next layer (output or next hidden layer) \n",
    "\n",
    "Step5: Return the paramaters\n"
   ]
  },
  {
   "cell_type": "code",
   "execution_count": 5,
   "metadata": {},
   "outputs": [],
   "source": [
    "def forward_propagation_NN(x_train, parameters):\n",
    "\n",
    "    Z1 = np.dot(x_train,parameters[\"weight1\"],out=None) +parameters[\"bias1\"]\n",
    "    A1 = relu(Z1)\n",
    "    Z2 = np.dot(A1,parameters[\"weight2\"],out=None) + parameters[\"bias2\"]\n",
    "    A2 = tanh(Z2)\n",
    "    cache = {\"Z1\": Z1,\n",
    "             \"A1\": A1,\n",
    "             \"Z2\": Z2,\n",
    "             \"A2\": A2}\n",
    "    \n",
    "    return A2, cache"
   ]
  },
  {
   "cell_type": "markdown",
   "metadata": {},
   "source": [
    "Step 1: Read the paramaters that is coming from Forward Propagation\n",
    "    \n",
    "Step 2: Make derivation calculation for each weights / Gradient descent calculation\n",
    "\n",
    "Step5: Return the gradients\n"
   ]
  },
  {
   "cell_type": "code",
   "execution_count": 6,
   "metadata": {},
   "outputs": [],
   "source": [
    "def backward_propagation_NN(parameters, cache, X, Y):\n",
    "\n",
    "    dZ2 = cache[\"A2\"]-Y\n",
    "    dW2 = np.dot(cache[\"A1\"].T,dZ2)/X.shape[1]\n",
    "    \n",
    "    db2 = np.sum(dZ2,axis =1,keepdims=True)/X.shape[1]\n",
    "    dZ1 = np.dot(dZ2,parameters[\"weight2\"].T)*(1 - np.power(cache[\"A1\"], 2))\n",
    "    \n",
    "    dW1 = np.dot(X.T,dZ1)/X.shape[1]\n",
    "    db1 = np.sum(dZ1,axis =1,keepdims=True)/X.shape[1]\n",
    "    grads = {\"dweight1\": dW1,\n",
    "             \"dbias1\": db1,\n",
    "             \"dweight2\": dW2,\n",
    "             \"dbias2\": db2}\n",
    "    return grads"
   ]
  },
  {
   "cell_type": "markdown",
   "metadata": {},
   "source": [
    "We are updating the parameters so we can train and make Forward Propagation after the Backward Propagation "
   ]
  },
  {
   "cell_type": "code",
   "execution_count": 7,
   "metadata": {},
   "outputs": [],
   "source": [
    "def update_parameters_NN(parameters, grads, learning_rate = 0.01):\n",
    "    parameters = {\"weight1\": parameters[\"weight1\"]-learning_rate*grads[\"dweight1\"],\n",
    "                  \"bias1\": parameters[\"bias1\"]-learning_rate*grads[\"dbias1\"],\n",
    "                  \"weight2\": parameters[\"weight2\"]-learning_rate*grads[\"dweight2\"],\n",
    "                  \"bias2\": parameters[\"bias2\"]-learning_rate*grads[\"dbias2\"]}\n",
    "    return parameters"
   ]
  },
  {
   "cell_type": "markdown",
   "metadata": {},
   "source": [
    "Calculating the cost and loss to track model training.\n",
    "\n",
    "The lost function defined as A squared-Error loss function."
   ]
  },
  {
   "cell_type": "code",
   "execution_count": 8,
   "metadata": {},
   "outputs": [],
   "source": [
    "def compute_cost_lost_NN(A2, Y, parameters):\n",
    "    #logprobs = np.multiply(np.log(A2),Y)\n",
    "    loss = np.square(np.subtract(Y,A2)).mean()\n",
    "    cost = -np.sum(loss)/Y.shape[1]\n",
    "    return cost, loss"
   ]
  },
  {
   "cell_type": "markdown",
   "metadata": {},
   "source": [
    "Defining the Neural Network and  training our model"
   ]
  },
  {
   "cell_type": "code",
   "execution_count": 9,
   "metadata": {},
   "outputs": [],
   "source": [
    "\n",
    "def neural_network(x_train, y_train,x_test,y_test, num_iterations):\n",
    "    index_list = []\n",
    "    loss_list=[]\n",
    "    \n",
    "    #initialize parameters and layer sizes\n",
    "    parameters = initialize_parameters_and_layer_sizes_NN(x_train, y_train)\n",
    "\n",
    "    for i in range(0, num_iterations):\n",
    "         # forward propagation\n",
    "        A2, cache = forward_propagation_NN(x_train,parameters)\n",
    "        # compute cost\n",
    "        cost, loss = compute_cost_lost_NN(A2, y_train, parameters)\n",
    "        #print(cost,loss)\n",
    "         # backward propagation\n",
    "        grads = backward_propagation_NN(parameters, cache, x_train, y_train)\n",
    "         # update parameters\n",
    "        parameters = update_parameters_NN(parameters, grads)\n",
    "        loss_list.append(loss)\n",
    "        index_list.append(i)\n",
    "        print(\"Loss after iteration %i: %f\" %(i, loss))\n",
    "        print(\"Updated Weight 1 :{}\".format(parameters[\"weight1\"]))\n",
    "        print(\"Updated Weight 2 :{}\".format(parameters[\"weight2\"]))\n",
    "\n",
    "    \n",
    "    plt.plot(index_list,loss_list)\n",
    "    plt.xticks(index_list,rotation='vertical')\n",
    "    plt.xlabel(\"Number of Iterarion\")\n",
    "    plt.ylabel(\"Loss\")\n",
    "    plt.show()\n",
    "    \n",
    "    # Print train/test Errors\n",
    "    return parameters\n",
    "\n"
   ]
  },
  {
   "cell_type": "code",
   "execution_count": 10,
   "metadata": {},
   "outputs": [
    {
     "name": "stdout",
     "output_type": "stream",
     "text": [
      "Loss after iteration 0: 1.132150\n",
      "Updated Weight 1 :[[0.60014064 0.70018511 0.00331513]\n",
      " [0.0099111  0.42983935 0.8783618 ]]\n",
      "Updated Weight 2 :[[0.0209254 ]\n",
      " [0.03198028]\n",
      " [0.89618023]]\n",
      "Loss after iteration 1: 1.115166\n",
      "Updated Weight 1 :[[0.60028652 0.7003806  0.00663912]\n",
      " [0.00981883 0.42966936 0.87668015]]\n",
      "Updated Weight 2 :[[0.02188978]\n",
      " [0.03399265]\n",
      " [0.89248095]]\n",
      "Loss after iteration 2: 1.098250\n",
      "Updated Weight 1 :[[0.60043778 0.70058644 0.00997127]\n",
      " [0.0097231  0.42949004 0.8749565 ]]\n",
      "Updated Weight 2 :[[0.02289201]\n",
      " [0.03603592]\n",
      " [0.88890146]]\n",
      "Loss after iteration 3: 1.081405\n",
      "Updated Weight 1 :[[0.60059457 0.70080256 0.01331081]\n",
      " [0.00962384 0.4293014  0.87319228]]\n",
      "Updated Weight 2 :[[0.02393098]\n",
      " [0.03810891]\n",
      " [0.88544102]]\n",
      "Loss after iteration 4: 1.064637\n",
      "Updated Weight 1 :[[0.60075698 0.70102889 0.01665698]\n",
      " [0.00952096 0.42910348 0.87138896]]\n",
      "Updated Weight 2 :[[0.0250056 ]\n",
      " [0.04021049]\n",
      " [0.88209884]]\n",
      "Loss after iteration 5: 1.047949\n",
      "Updated Weight 1 :[[0.60092514 0.70126535 0.02000896]\n",
      " [0.0094144  0.42889633 0.869548  ]]\n",
      "Updated Weight 2 :[[0.02611483]\n",
      " [0.04233956]\n",
      " [0.87887405]]\n",
      "Loss after iteration 6: 1.031348\n",
      "Updated Weight 1 :[[0.60109911 0.70151184 0.02336595]\n",
      " [0.0093041  0.42868    0.86767089]]\n",
      "Updated Weight 2 :[[0.02725764]\n",
      " [0.04449502]\n",
      " [0.87576576]]\n",
      "Loss after iteration 7: 1.014839\n",
      "Updated Weight 1 :[[0.60127898 0.70176825 0.02672709]\n",
      " [0.00919003 0.42845456 0.86575913]]\n",
      "Updated Weight 2 :[[0.02843302]\n",
      " [0.04667583]\n",
      " [0.872773  ]]\n",
      "Loss after iteration 8: 0.998427\n",
      "Updated Weight 1 :[[0.60146481 0.70203445 0.03009153]\n",
      " [0.00907215 0.4282201  0.8638142 ]]\n",
      "Updated Weight 2 :[[0.02964001]\n",
      " [0.04888095]\n",
      " [0.86989475]]\n",
      "Loss after iteration 9: 0.982116\n",
      "Updated Weight 1 :[[0.60165663 0.70231032 0.03345838]\n",
      " [0.00895042 0.42797669 0.86183762]]\n",
      "Updated Weight 2 :[[0.03087764]\n",
      " [0.05110938]\n",
      " [0.86712994]]\n",
      "Loss after iteration 10: 0.965913\n",
      "Updated Weight 1 :[[0.6018545  0.70259572 0.03682677]\n",
      " [0.00882483 0.42772445 0.85983086]]\n",
      "Updated Weight 2 :[[0.03214498]\n",
      " [0.05336014]\n",
      " [0.86447744]]\n",
      "Loss after iteration 11: 0.949823\n",
      "Updated Weight 1 :[[0.60205841 0.7028905  0.04019579]\n",
      " [0.00869536 0.42746347 0.85779545]]\n",
      "Updated Weight 2 :[[0.03344113]\n",
      " [0.05563227]\n",
      " [0.86193608]]\n",
      "Loss after iteration 12: 0.933851\n",
      "Updated Weight 1 :[[0.6022684  0.70319449 0.04356454]\n",
      " [0.00856201 0.42719388 0.85573286]]\n",
      "Updated Weight 2 :[[0.0347652 ]\n",
      " [0.05792483]\n",
      " [0.85950462]]\n",
      "Loss after iteration 13: 0.918003\n",
      "Updated Weight 1 :[[0.60248446 0.70350753 0.04693212]\n",
      " [0.00842478 0.4269158  0.85364459]]\n",
      "Updated Weight 2 :[[0.03611632]\n",
      " [0.06023693]\n",
      " [0.85718179]]\n",
      "Loss after iteration 14: 0.902283\n",
      "Updated Weight 1 :[[0.60270658 0.70382945 0.05029761]\n",
      " [0.00828368 0.42662935 0.85153211]]\n",
      "Updated Weight 2 :[[0.03749365]\n",
      " [0.06256767]\n",
      " [0.85496626]]\n",
      "Loss after iteration 15: 0.886696\n",
      "Updated Weight 1 :[[0.60293474 0.70416006 0.05366009]\n",
      " [0.00813872 0.42633469 0.84939689]]\n",
      "Updated Weight 2 :[[0.03889635]\n",
      " [0.06491618]\n",
      " [0.85285665]]\n",
      "Loss after iteration 16: 0.871248\n",
      "Updated Weight 1 :[[0.60316891 0.70449918 0.05701867]\n",
      " [0.00798992 0.42603195 0.84724039]]\n",
      "Updated Weight 2 :[[0.04032363]\n",
      " [0.06728163]\n",
      " [0.85085154]]\n",
      "Loss after iteration 17: 0.855943\n",
      "Updated Weight 1 :[[0.60340905 0.70484662 0.06037242]\n",
      " [0.00783731 0.42572128 0.84506405]]\n",
      "Updated Weight 2 :[[0.04177468]\n",
      " [0.06966317]\n",
      " [0.84894947]]\n",
      "Loss after iteration 18: 0.840785\n",
      "Updated Weight 1 :[[0.60365512 0.70520216 0.06372045]\n",
      " [0.00768093 0.42540285 0.84286929]]\n",
      "Updated Weight 2 :[[0.04324874]\n",
      " [0.07206002]\n",
      " [0.84714894]]\n",
      "Loss after iteration 19: 0.825780\n",
      "Updated Weight 1 :[[0.60390706 0.70556562 0.06706187]\n",
      " [0.0075208  0.42507681 0.84065751]]\n",
      "Updated Weight 2 :[[0.04474506]\n",
      " [0.07447139]\n",
      " [0.8454484 ]]\n",
      "Loss after iteration 20: 0.810932\n",
      "Updated Weight 1 :[[0.60416481 0.70593679 0.07039579]\n",
      " [0.00735697 0.42474333 0.83843011]]\n",
      "Updated Weight 2 :[[0.04626289]\n",
      " [0.07689651]\n",
      " [0.84384627]]\n",
      "Loss after iteration 21: 0.796243\n",
      "Updated Weight 1 :[[0.6044283  0.70631545 0.07372134]\n",
      " [0.00718948 0.42440257 0.83618843]]\n",
      "Updated Weight 2 :[[0.04780152]\n",
      " [0.07933463]\n",
      " [0.84234096]]\n",
      "Loss after iteration 22: 0.781719\n",
      "Updated Weight 1 :[[0.60469746 0.70670139 0.07703766]\n",
      " [0.00701838 0.42405472 0.83393383]]\n",
      "Updated Weight 2 :[[0.04936023]\n",
      " [0.08178504]\n",
      " [0.8409308 ]]\n",
      "Loss after iteration 23: 0.767362\n",
      "Updated Weight 1 :[[0.6049722  0.70709439 0.0803439 ]\n",
      " [0.00684374 0.42369995 0.83166761]]\n",
      "Updated Weight 2 :[[0.05093834]\n",
      " [0.08424701]\n",
      " [0.83961414]]\n",
      "Loss after iteration 24: 0.753176\n",
      "Updated Weight 1 :[[0.60525244 0.70749423 0.08363923]\n",
      " [0.00666559 0.42333844 0.82939108]]\n",
      "Updated Weight 2 :[[0.05253518]\n",
      " [0.08671987]\n",
      " [0.83838928]]\n",
      "Loss after iteration 25: 0.739165\n",
      "Updated Weight 1 :[[0.60553809 0.7079007  0.08692284]\n",
      " [0.00648402 0.42297037 0.82710548]]\n",
      "Updated Weight 2 :[[0.05415008]\n",
      " [0.08920293]\n",
      " [0.8372545 ]]\n",
      "Loss after iteration 26: 0.725330\n",
      "Updated Weight 1 :[[0.60582904 0.70831358 0.09019393]\n",
      " [0.00629907 0.42259592 0.82481206]]\n",
      "Updated Weight 2 :[[0.05578239]\n",
      " [0.09169554]\n",
      " [0.83620805]]\n",
      "Loss after iteration 27: 0.711735\n",
      "Updated Weight 1 :[[0.60612519 0.70873262 0.09345161]\n",
      " [0.00611082 0.42221529 0.82251205]]\n",
      "Updated Weight 2 :[[0.05742818]\n",
      " [0.09419236]\n",
      " [0.8352482 ]]\n",
      "Loss after iteration 28: 0.698536\n",
      "Updated Weight 1 :[[0.60642638 0.70915753 0.09669472]\n",
      " [0.00591935 0.42182868 0.82020674]]\n",
      "Updated Weight 2 :[[0.05907181]\n",
      " [0.0966793 ]\n",
      " [0.83437316]]\n",
      "Loss after iteration 29: 0.685536\n",
      "Updated Weight 1 :[[0.60673242 0.70958802 0.09992252]\n",
      " [0.0057248  0.42143637 0.8178973 ]]\n",
      "Updated Weight 2 :[[0.06071297]\n",
      " [0.0991561 ]\n",
      " [0.83358123]]\n"
     ]
    },
    {
     "data": {
      "image/png": "[encoded data removed]",
      "text/plain": [
       "<Figure size 432x288 with 1 Axes>"
      ]
     },
     "metadata": {
      "needs_background": "light"
     },
     "output_type": "display_data"
    }
   ],
   "source": [
    "x= np.array([[0.75,0.80],[0.20,0.05],[-0.75,0.80],[0.20,-0.05] ])\n",
    "y= np.array([[1],[1],[-1],[-1]])\n",
    "\n",
    "parameters = neural_network(x, y,x,y, num_iterations=30)"
   ]
  }
 ],
 "metadata": {
  "kernelspec": {
   "display_name": "Python 3",
   "language": "python",
   "name": "python3"
  },
  "language_info": {
   "codemirror_mode": {
    "name": "ipython",
    "version": 3
   },
   "file_extension": ".py",
   "mimetype": "text/x-python",
   "name": "python",
   "nbconvert_exporter": "python",
   "pygments_lexer": "ipython3",
   "version": "3.8.3"
  }
 },
 "nbformat": 4,
 "nbformat_minor": 4
}
